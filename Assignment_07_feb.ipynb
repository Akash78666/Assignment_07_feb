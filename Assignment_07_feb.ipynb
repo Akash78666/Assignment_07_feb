{
 "cells": [
  {
   "cell_type": "code",
   "execution_count": null,
   "id": "bd0f23c1-e9eb-4b65-b808-c00806718bca",
   "metadata": {},
   "outputs": [],
   "source": [
    "import re\n",
    "password = input(\"Please enter the password \")\n",
    "while True:\n",
    "    if (len(password)<10):\n",
    "        flag = -1\n",
    "        break\n",
    "    elif not re.search(\"[a-z]\", password):\n",
    "        flag = -1\n",
    "        break\n",
    "    elif not re.search(\"[A-Z]\", password):\n",
    "        flag = -1\n",
    "        break\n",
    "    elif not re.search(\"[0-9]\", password):\n",
    "        flag = -1\n",
    "        break\n",
    "    elif not re.search(\"[_@$]\" , password):\n",
    "        flag = -1\n",
    "        break\n",
    "    elif re.search(\"\\s\" , password):\n",
    "        flag = -1\n",
    "        break\n",
    "    else:\n",
    "        flag = 0\n",
    "        print(\"Valid Password\")\n",
    "        break\n",
    " \n",
    "if flag == -1:\n",
    "    print(\"Not a Valid Password \")"
   ]
  },
  {
   "cell_type": "code",
   "execution_count": 3,
   "id": "802fcf95-9205-4d66-a9f9-b57ca197a699",
   "metadata": {},
   "outputs": [],
   "source": [
    "tuple=[(\"mango\",99),(\"orange\",80), (\"grapes\", 1000)]"
   ]
  },
  {
   "cell_type": "code",
   "execution_count": 4,
   "id": "0b6f4ab8-2a21-4a29-a8c6-99400921a00c",
   "metadata": {},
   "outputs": [
    {
     "name": "stdout",
     "output_type": "stream",
     "text": [
      "\n",
      "Sorting the List of Tuples:\n",
      "[('orange', 80), ('mango', 99), ('grapes', 1000)]\n"
     ]
    }
   ],
   "source": [
    "tuple.sort(key=lambda x:x[1])\n",
    "print(\"\\nSorting the List of Tuples:\")\n",
    "print(tuple)"
   ]
  },
  {
   "cell_type": "code",
   "execution_count": 7,
   "id": "15572f54-7f35-413d-b474-d16aa8aaf89f",
   "metadata": {},
   "outputs": [],
   "source": [
    "a=lambda n,p:(n**p)"
   ]
  },
  {
   "cell_type": "code",
   "execution_count": 8,
   "id": "410392bc-6fb1-4693-98fa-756e36cdf998",
   "metadata": {},
   "outputs": [
    {
     "data": {
      "text/plain": [
       "8"
      ]
     },
     "execution_count": 8,
     "metadata": {},
     "output_type": "execute_result"
    }
   ],
   "source": [
    "a(2,3)"
   ]
  },
  {
   "cell_type": "code",
   "execution_count": 10,
   "id": "e3cc0b75-7afc-404b-848d-248cd037c130",
   "metadata": {},
   "outputs": [],
   "source": [
    "l2=[1,2,3,4,5,6,7,8,9,10]"
   ]
  },
  {
   "cell_type": "code",
   "execution_count": 11,
   "id": "dd99a79a-8b22-4f72-ad4a-6bbd2d4ab74e",
   "metadata": {},
   "outputs": [
    {
     "data": {
      "text/plain": [
       "[2, 4, 6, 8, 10]"
      ]
     },
     "execution_count": 11,
     "metadata": {},
     "output_type": "execute_result"
    }
   ],
   "source": [
    "list(filter(lambda x:x%2==0 ,l2))"
   ]
  },
  {
   "cell_type": "code",
   "execution_count": 13,
   "id": "cb71f62f-7a19-4385-a7b7-07041bace081",
   "metadata": {},
   "outputs": [
    {
     "data": {
      "text/plain": [
       "[3, 6, 9]"
      ]
     },
     "execution_count": 13,
     "metadata": {},
     "output_type": "execute_result"
    }
   ],
   "source": [
    "list(filter(lambda x:x%3==0,l2))"
   ]
  },
  {
   "cell_type": "code",
   "execution_count": 14,
   "id": "9bde16ca-8832-44bb-9b47-5c424522c7ee",
   "metadata": {},
   "outputs": [],
   "source": [
    "l3=[1,2,3,4,5,6,-1,-2,-3,-4,-5,0]"
   ]
  },
  {
   "cell_type": "code",
   "execution_count": 15,
   "id": "b7d2eaad-d8ac-4400-b2f5-c7ab8c711332",
   "metadata": {},
   "outputs": [
    {
     "data": {
      "text/plain": [
       "[1, 2, 3, 4, 5, 6, -1, -2, -3, -4, -5]"
      ]
     },
     "execution_count": 15,
     "metadata": {},
     "output_type": "execute_result"
    }
   ],
   "source": [
    "list(filter(lambda x:x<0 or x>0,l3))"
   ]
  },
  {
   "cell_type": "code",
   "execution_count": null,
   "id": "e0417ae1-cf53-4e99-832b-bae0fe56bbcf",
   "metadata": {},
   "outputs": [],
   "source": []
  }
 ],
 "metadata": {
  "kernelspec": {
   "display_name": "Python 3 (ipykernel)",
   "language": "python",
   "name": "python3"
  },
  "language_info": {
   "codemirror_mode": {
    "name": "ipython",
    "version": 3
   },
   "file_extension": ".py",
   "mimetype": "text/x-python",
   "name": "python",
   "nbconvert_exporter": "python",
   "pygments_lexer": "ipython3",
   "version": "3.10.8"
  }
 },
 "nbformat": 4,
 "nbformat_minor": 5
}
